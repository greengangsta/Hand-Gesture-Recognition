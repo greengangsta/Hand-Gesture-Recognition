{
 "cells": [
  {
   "cell_type": "code",
   "execution_count": 2,
   "metadata": {},
   "outputs": [],
   "source": [
    "import cv2\n",
    "import numpy as np\n",
    "\n",
    "from sklearn.metrics import pairwise"
   ]
  },
  {
   "cell_type": "code",
   "execution_count": 3,
   "metadata": {},
   "outputs": [],
   "source": [
    "# Global Variables \n",
    "\n",
    "background = None \n",
    "accumulate_weight = 0.5\n",
    "\n",
    "roi_top = 20\n",
    "roi_bottom = 300\n",
    "roi_right = 300\n",
    "roi_right = 600"
   ]
  },
  {
   "cell_type": "code",
   "execution_count": 4,
   "metadata": {},
   "outputs": [],
   "source": [
    "def calc_accum_avg(frame,accumulate_weight):\n",
    "    \n",
    "    global background\n",
    "    \n",
    "    if background is None :\n",
    "        background = frame.copy().astype('float')\n",
    "        return None\n",
    "    \n",
    "    cv2.accumulateWeighted(frame, background, accumulated_weight)"
   ]
  },
  {
   "cell_type": "code",
   "execution_count": 5,
   "metadata": {},
   "outputs": [],
   "source": [
    "def segment(frame, threshold_min=25):\n",
    "    \n",
    "    diff = cv2.absdiff(background.astype('uint8'),frame)\n",
    "    \n",
    "    ret, thresholded = cv2.threshold(diff, threshold_min,255,cv2.THRESH_BINARY)\n",
    "    \n",
    "    image, contours, hierarchy = cv2.findContours(thresholded.copy(),cv2.RETR_EXTERNAL,cv2.CHAIN_APPROX_SIMPLE)\n",
    "    \n",
    "    if len(contours) == 0:\n",
    "        \n",
    "        return None\n",
    "    else :\n",
    "        # Assuming the largest external contour in the ROI is the hand\n",
    "        \n",
    "        hand_segment = max(contours,key = cv2.contourArea)\n",
    "        \n",
    "        return (thresholded, hand_segment)\n",
    "        "
   ]
  },
  {
   "cell_type": "code",
   "execution_count": 6,
   "metadata": {},
   "outputs": [],
   "source": [
    "def count_fingers(thresholded,hand_segment):\n",
    "    \n",
    "    conv_hull = cv2.convexHull(hand_segment)\n",
    "    \n",
    "    top = tuple(conv_hull[conv_hull[:,:,1].argmin()[0]])\n",
    "    \n",
    "    bottom = tuple(conv_hull[conv_hull[:,:,1].argmax()[0]])\n",
    "\n",
    "    left = tuple(conv_hull[conv_hull[:,:,0].argmin()[0]])    \n",
    "    \n",
    "    right = tuple(conv_hull[conv_hull[:,:,0].argmax()[0]])   \n",
    "    \n",
    "    cX = (left[0] + right[0]) // 2\n",
    "    cY = (top[0] + bottom[0]) // 2\n",
    "    \n",
    "    distance = pairwise.euclidean_distance([cX,cY],Y = [top,bottom,left,right])[0]\n",
    "    \n",
    "    max_distance = distance.max()\n",
    "    \n",
    "    radius = int(0.8*max_distance)\n",
    "    \n",
    "    circumference = (2*np.pi*radius)\n",
    "    \n",
    "    circular_roi = np.zeros(thresholded.shape[:2],dype ='uint8')\n",
    "    \n",
    "    cv2.circle(circular_roi,(cX,xY),radius,255,10)\n",
    "    \n",
    "    circular_roi = cv2.bitwise_and(thresholded,thresholded,mask = circular_roi)\n",
    "    \n",
    "    image, contours, hierarchy = cv2.findContours(circular_roi.copy(),cv2.RETR_EXTERNAL,cv2.CHAIN_APPROX_NONE)\n",
    "    \n",
    "    count = 0\n",
    "    \n",
    "    for contour in countours:\n",
    "        \n",
    "        (x,y,w,h) = cv2.boundingRect(contour)\n",
    "        \n",
    "        wrist_pos = (cY+ (0.25*cY)) > (y+h)\n",
    "        \n",
    "        limit_points = ((circumference*0.25) > contour.shape[0])\n",
    "        \n",
    "        if wrist_pos and limit_point:\n",
    "            \n",
    "            count += 1\n",
    "        \n",
    "    return count"
   ]
  },
  {
   "cell_type": "code",
   "execution_count": null,
   "metadata": {},
   "outputs": [],
   "source": []
  }
 ],
 "metadata": {
  "kernelspec": {
   "display_name": "Python 3",
   "language": "python",
   "name": "python3"
  },
  "language_info": {
   "codemirror_mode": {
    "name": "ipython",
    "version": 3
   },
   "file_extension": ".py",
   "mimetype": "text/x-python",
   "name": "python",
   "nbconvert_exporter": "python",
   "pygments_lexer": "ipython3",
   "version": "3.6.8"
  }
 },
 "nbformat": 4,
 "nbformat_minor": 2
}
